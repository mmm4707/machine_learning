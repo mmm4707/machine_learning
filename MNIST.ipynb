{
  "nbformat": 4,
  "nbformat_minor": 0,
  "metadata": {
    "colab": {
      "provenance": [],
      "authorship_tag": "ABX9TyP8OX81SfbReqkC2jXqCn5p",
      "include_colab_link": true
    },
    "kernelspec": {
      "name": "python3",
      "display_name": "Python 3"
    },
    "language_info": {
      "name": "python"
    }
  },
  "cells": [
    {
      "cell_type": "markdown",
      "metadata": {
        "id": "view-in-github",
        "colab_type": "text"
      },
      "source": [
        "<a href=\"https://colab.research.google.com/github/mmm4707/machine_learning/blob/main/MNIST.ipynb\" target=\"_parent\"><img src=\"https://colab.research.google.com/assets/colab-badge.svg\" alt=\"Open In Colab\"/></a>"
      ]
    },
    {
      "cell_type": "code",
      "execution_count": null,
      "metadata": {
        "colab": {
          "base_uri": "https://localhost:8080/"
        },
        "id": "2c0_8WWWQ-u8",
        "outputId": "6111aace-a9f6-42f9-dcdc-29fe4d9c6d66"
      },
      "outputs": [
        {
          "output_type": "stream",
          "name": "stdout",
          "text": [
            "Mounted at /content/gdrive\n"
          ]
        }
      ],
      "source": [
        "# 필요한 라이브러리와 Google 드라이브 마운트\n",
        "import numpy as np\n",
        "import pandas as pd\n",
        "import matplotlib.pyplot as plt\n",
        "from google.colab import drive\n",
        "\n",
        "# Google 드라이브 마운트\n",
        "drive.mount('/content/gdrive', force_remount=True)\n",
        "\n",
        "# 데이터 파일 경로 설정 및 MNIST 데이터 로드\n",
        "filepath = '/content/gdrive/My Drive/'\n",
        "mnist = np.load(filepath + \"mnist.npz\")\n",
        "\n",
        "# 입력 데이터와 출력 데이터를 준비\n",
        "x_train = (mnist['x_train'] - np.mean(mnist['x_train'])) / np.std(mnist['x_train'])\n",
        "y_train = mnist['y_train']\n",
        "x_test = (mnist['x_test'] - np.mean(mnist['x_train'])) / np.std(mnist['x_train'])\n",
        "y_test = mnist['y_test']"
      ]
    },
    {
      "cell_type": "code",
      "source": [
        "# 활성화 함수 (Softmax)\n",
        "def softmax(x):\n",
        "    exp_x = np.exp(x - np.max(x))  # 오버플로우 방지 코드\n",
        "    for i in range(len(x)):\n",
        "        exp_x[i] /= np.sum(exp_x[i])\n",
        "    return exp_x\n",
        "\n",
        "# 가설 함수 정의\n",
        "def hypothesis(w, x, b):\n",
        "    return softmax(x.dot(w) + b)\n",
        "\n",
        "# 교차 엔트로피 손실 함수 정의\n",
        "def cross_entropy(y_true, y_pred):\n",
        "    y_true = np.argmax(y_true, axis=-1)\n",
        "    y_pred = y_pred[np.arange(y_true.shape[0]), y_true]\n",
        "\n",
        "    return -np.mean(np.log(y_pred + 1e-8))\n"
      ],
      "metadata": {
        "id": "NOHlpOWQQ_kD"
      },
      "execution_count": null,
      "outputs": []
    },
    {
      "cell_type": "code",
      "source": [
        "# 출력 데이터를 원-핫 인코딩으로 변환\n",
        "def to_onehot(labels, num_classes):\n",
        "    return np.eye(num_classes)[labels]\n",
        "\n",
        "y_train_onehot = to_onehot(y_train, 10)  # 클래스는 0~9까지 10개\n",
        "y_test_onehot = to_onehot(y_test, 10)  # 클래스는 0~9까지 10개\n",
        "\n",
        "# 입력 데이터를 7x7 크기로 축소\n",
        "x_train_small = x_train[:, ::4, ::4].reshape(-1, 7*7)\n",
        "x_test_small = x_test[:, ::4, ::4].reshape(-1, 7*7)"
      ],
      "metadata": {
        "id": "0Q0DqtMPRLdx"
      },
      "execution_count": null,
      "outputs": []
    },
    {
      "cell_type": "code",
      "source": [
        "# 모델 가중치 및 편향 초기화\n",
        "w = np.random.rand(7*7, 10)\n",
        "b = np.random.rand(10)"
      ],
      "metadata": {
        "id": "XiE_gKakR6Kg"
      },
      "execution_count": null,
      "outputs": []
    },
    {
      "cell_type": "code",
      "source": [
        "# 하이퍼파라미터 설정\n",
        "epoch = 1000  # 에폭 설정\n",
        "alpha = 0.1   # 학습률 설정\n",
        "sample_num = x_train_small.shape[0]\n",
        "\n",
        "total_loss = []\n",
        "for i in range(epoch):\n",
        "    h = hypothesis(w, x_train_small, b)\n",
        "    loss = cross_entropy(y_train_onehot, h)\n",
        "\n",
        "    # 경사하강법을 구현해보자!!!\n",
        "    dw = x_train_small.T.dot(h - y_train_onehot) / sample_num\n",
        "    db = np.sum(h - y_train_onehot) / sample_num\n",
        "    w -= alpha * dw\n",
        "    b -= alpha * db\n",
        "\n",
        "    if i % 50 == 0:\n",
        "        print(f\"[Epoch : {i:3d}] Loss : {loss:.10f}\")\n",
        "    total_loss.append(loss)\n",
        "total_loss = np.array(total_loss)"
      ],
      "metadata": {
        "colab": {
          "base_uri": "https://localhost:8080/"
        },
        "id": "sg3EHd0jR7iz",
        "outputId": "c744bc62-4002-4ad1-918b-c8ced36c3676"
      },
      "execution_count": null,
      "outputs": [
        {
          "output_type": "stream",
          "name": "stdout",
          "text": [
            "[Epoch :   0] Loss : 3.9330254474\n",
            "[Epoch :  50] Loss : 1.3622257679\n",
            "[Epoch : 100] Loss : 1.0759982671\n",
            "[Epoch : 150] Loss : 0.9802337386\n",
            "[Epoch : 200] Loss : 0.9325071264\n",
            "[Epoch : 250] Loss : 0.9039463711\n",
            "[Epoch : 300] Loss : 0.8849361367\n",
            "[Epoch : 350] Loss : 0.8713499014\n",
            "[Epoch : 400] Loss : 0.8611284661\n",
            "[Epoch : 450] Loss : 0.8531337334\n",
            "[Epoch : 500] Loss : 0.8466876616\n",
            "[Epoch : 550] Loss : 0.8413621786\n",
            "[Epoch : 600] Loss : 0.8368741947\n",
            "[Epoch : 650] Loss : 0.8330292296\n",
            "[Epoch : 700] Loss : 0.8296893413\n",
            "[Epoch : 750] Loss : 0.8267539924\n",
            "[Epoch : 800] Loss : 0.8241481660\n",
            "[Epoch : 850] Loss : 0.8218147308\n",
            "[Epoch : 900] Loss : 0.8197093854\n",
            "[Epoch : 950] Loss : 0.8177972249\n"
          ]
        }
      ]
    },
    {
      "cell_type": "code",
      "source": [
        "\n",
        "plt.plot(10.0 * np.log(total_loss / (np.max(total_loss + 1e-5))))\n",
        "plt.show()"
      ],
      "metadata": {
        "colab": {
          "base_uri": "https://localhost:8080/",
          "height": 430
        },
        "id": "yG6c62I5R800",
        "outputId": "1796e1d5-92c4-43ef-87a3-ff683ce05de9"
      },
      "execution_count": null,
      "outputs": [
        {
          "output_type": "display_data",
          "data": {
            "text/plain": [
              "<Figure size 640x480 with 1 Axes>"
            ],
            "image/png": "[encoded data removed]"
          },
          "metadata": {}
        }
      ]
    },
    {
      "cell_type": "code",
      "source": [
        "from sklearn.metrics import accuracy_score\n",
        "\n",
        "# 모델을 사용하여 테스트 데이터에 대한 예측 수행\n",
        "y_pred_onehot = hypothesis(w, x_test_small, b)\n",
        "y_pred = np.argmax(y_pred_onehot, axis=-1)\n",
        "\n",
        "# 정확도 계산\n",
        "acc = accuracy_score(y_test, y_pred)\n",
        "print(acc)"
      ],
      "metadata": {
        "colab": {
          "base_uri": "https://localhost:8080/"
        },
        "id": "y7-y8CcDUFpE",
        "outputId": "c8ae85db-51ff-45a7-e04e-70163dccd537"
      },
      "execution_count": null,
      "outputs": [
        {
          "output_type": "stream",
          "name": "stdout",
          "text": [
            "0.7522\n"
          ]
        }
      ]
    },
    {
      "cell_type": "code",
      "source": [],
      "metadata": {
        "id": "nFJiga9NUUbs"
      },
      "execution_count": null,
      "outputs": []
    }
  ]
}